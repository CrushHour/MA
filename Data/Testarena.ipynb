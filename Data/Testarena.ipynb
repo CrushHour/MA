{
 "cells": [
  {
   "cell_type": "code",
   "execution_count": 6,
   "id": "threatened-grill",
   "metadata": {},
   "outputs": [],
   "source": [
    "from datetime import datetime\n",
    "from time import sleep\n",
    "import time"
   ]
  },
  {
   "cell_type": "code",
   "execution_count": 7,
   "id": "international-rebecca",
   "metadata": {},
   "outputs": [],
   "source": [
    "init_time = datetime.now()\n",
    "sleep(0.1)\n",
    "now = datetime.now()\n",
    "dt = now - init_time\n",
    "dt_in_ms = dt.seconds *1000 + dt.microseconds / 1000"
   ]
  },
  {
   "cell_type": "code",
   "execution_count": 8,
   "id": "acute-sandwich",
   "metadata": {},
   "outputs": [
    {
     "data": {
      "text/plain": [
       "1001.149"
      ]
     },
     "execution_count": 8,
     "metadata": {},
     "output_type": "execute_result"
    }
   ],
   "source": [
    "dt_in_ms"
   ]
  },
  {
   "cell_type": "code",
   "execution_count": 9,
   "id": "becoming-lexington",
   "metadata": {},
   "outputs": [],
   "source": [
    "tt = time.localtime()"
   ]
  },
  {
   "cell_type": "code",
   "execution_count": 10,
   "id": "buried-maine",
   "metadata": {},
   "outputs": [
    {
     "data": {
      "text/plain": [
       "time.struct_time(tm_year=2023, tm_mon=1, tm_mday=5, tm_hour=11, tm_min=35, tm_sec=23, tm_wday=3, tm_yday=5, tm_isdst=0)"
      ]
     },
     "execution_count": 10,
     "metadata": {},
     "output_type": "execute_result"
    }
   ],
   "source": [
    "tt"
   ]
  },
  {
   "cell_type": "code",
   "execution_count": 13,
   "id": "exclusive-outreach",
   "metadata": {},
   "outputs": [],
   "source": [
    "current_time = time.strftime(\"%Y_%m_%d_%H_%M_%S\", tt)"
   ]
  },
  {
   "cell_type": "code",
   "execution_count": 14,
   "id": "adjacent-things",
   "metadata": {},
   "outputs": [
    {
     "data": {
      "text/plain": [
       "'2023_01_05_11_35_23'"
      ]
     },
     "execution_count": 14,
     "metadata": {},
     "output_type": "execute_result"
    }
   ],
   "source": [
    "current_time"
   ]
  },
  {
   "cell_type": "code",
   "execution_count": 24,
   "id": "advised-spell",
   "metadata": {},
   "outputs": [
    {
     "name": "stdout",
     "output_type": "stream",
     "text": [
      "[[12.991339, 26.343584, -0.54081], [16.289434, -7.143974, -4.373655], [3.115073, 3.717124, 21.611605], [-25.590439, 8.193016, -6.679047], [-6.805401, -31.109989, -10.018099]]\n",
      "x:\n",
      "[0, -41, 20, -10, -10]\n",
      "x2:\n",
      "[12.991339, 16.289434, 3.115073, -25.590439, -6.805401]\n"
     ]
    },
    {
     "data": {
      "image/png": "[encoded data removed]",
      "text/plain": [
       "<Figure size 432x288 with 1 Axes>"
      ]
     },
     "metadata": {
      "needs_background": "light"
     },
     "output_type": "display_data"
    }
   ],
   "source": [
    "#%% import\n",
    "import pandas as pd\n",
    "import numpy as np\n",
    "import matplotlib.pyplot as plt\n",
    "from mpl_toolkits import mplot3d\n",
    "from pyquaternion import Quaternion\n",
    "import csv\n",
    "\n",
    "\n",
    "#%% transformation optitrack tracker to real tracker\n",
    "path_csv = \"/home/robotlab/Documents/GitHub/MA_Schote/MA/Data\"\n",
    "\n",
    "def get_opti_positions(filename):\n",
    "    path = path_csv + \"/\" + filename\n",
    "    opti_positions = []\n",
    "    with open(path, newline='') as csvfile:\n",
    "        spamreader = csv.reader(csvfile, delimiter=',', quotechar='|')\n",
    "        for row in spamreader:\n",
    "            if row[0] == 'Name':\n",
    "                name = row[1]\n",
    "            if row[0] == 'Point':\n",
    "                opti_positions.append([])\n",
    "                for i in range(2,5):\n",
    "                    opti_positions[-1].append(float(row[i]))\n",
    "\n",
    "    return name, opti_positions\n",
    "\t\n",
    "def plot_ply(tracker_points, opti_points, n):\n",
    "    fig = plt.figure()\n",
    "    ax = fig.add_subplot(projection = '3d')\n",
    "    x, y, z = [], [], []\n",
    "    x2, y2, z2 = [], [], []\n",
    "    for i in range(0,n):\n",
    "            x.append(tracker_points[i][0])\n",
    "            y.append(tracker_points[i][1])\n",
    "            z.append(tracker_points[i][2])\n",
    "    ax.scatter(x,y,z,c='g', marker='^')\n",
    "    print('x:')\n",
    "    print(x)\n",
    "    for i in range(0,n):\n",
    "            x2.append(opti_points[i][0])\n",
    "            y2.append(opti_points[i][1])\n",
    "            z2.append(opti_points[i][2])\n",
    "    print('x2:')\n",
    "    print(x2)\n",
    "    ax.scatter(x2,y2,z2, c='r', marker='o')\n",
    "    plt.show()\n",
    "\n",
    "\n",
    "\n",
    "\n",
    "class Tracker_3dicke:\n",
    "    numTrackers = 5\n",
    "    positions = [[0, 0, 75], [-42, 0, 46], [25, 0, 46], [0, 37, 41.5], [0, -44, 41.5]] # [x,y,z,x2,y2,z2,...]\n",
    "    name, opti_positions = get_opti_positions('MakerJS_3dicke.csv')\n",
    "\n",
    "class Tracker_Nico:\n",
    "    numTrackers = 5\n",
    "    positions = [[0, 0, 61], [-41, 0, 35], [20, 0, 35], [-10, 31, 35], [-10, -14, 35]] # [x,y,z,x2,y2,z2,...]\n",
    "    name, opti_positions = get_opti_positions('Tracker Nico.csv')\n",
    "\n",
    "\n",
    "#%% asd\n",
    "if __name__ == '__main__':\n",
    "    print(Tracker_Nico.opti_positions)\n",
    "    plot_ply(Tracker_Nico.positions, Tracker_Nico.opti_positions, Tracker_Nico.numTrackers)"
   ]
  },
  {
   "cell_type": "code",
   "execution_count": 25,
   "id": "precious-dialogue",
   "metadata": {},
   "outputs": [
    {
     "data": {
      "text/plain": [
       "[[12.991339, 26.343584, -0.54081],\n",
       " [16.289434, -7.143974, -4.373655],\n",
       " [3.115073, 3.717124, 21.611605],\n",
       " [-25.590439, 8.193016, -6.679047],\n",
       " [-6.805401, -31.109989, -10.018099]]"
      ]
     },
     "execution_count": 25,
     "metadata": {},
     "output_type": "execute_result"
    }
   ],
   "source": [
    "Tracker_Nico.opti_positions"
   ]
  },
  {
   "cell_type": "code",
   "execution_count": 82,
   "id": "accepted-study",
   "metadata": {},
   "outputs": [],
   "source": [
    "import math\n",
    "def get_min_max_dis(points, n):\n",
    "    diff = []\n",
    "    comp = [0,0,0]\n",
    "    v_comp_max = 0\n",
    "    v_comp_min = 100000000000000\n",
    "    for i in range(n):\n",
    "        print('i:', i)\n",
    "        for j in range(n-1,-1+i,-1):\n",
    "            if j != i:\n",
    "                print('    j:', j)\n",
    "                dx = points[j][0] - points[i][0]\n",
    "                dy = points[j][1] - points[i][1]\n",
    "                dz = points[j][2] - points[i][2]\n",
    "                diff.append([dx,dy,dz])\n",
    "    print(diff)\n",
    "    for i in range(len(diff)):\n",
    "        v_diff= math.sqrt(diff[i][0]**2+diff[i][1]**2+diff[i][2]**2)\n",
    "        \n",
    "        if v_diff > v_comp_max:\n",
    "            d_max = i\n",
    "            v_comp_max = v_diff\n",
    "        if v_diff < v_comp_min:\n",
    "            d_min = i\n",
    "            v_comp_min = v_diff\n",
    "            \n",
    "    return diff[d_max], diff[d_min]"
   ]
  },
  {
   "cell_type": "code",
   "execution_count": 91,
   "id": "ultimate-rough",
   "metadata": {},
   "outputs": [],
   "source": [
    "import math\n",
    "def get_min_max_dis(points, n):\n",
    "    diff = []\n",
    "    comp = [0,0,0]\n",
    "    v_comp_max = 0\n",
    "    v_comp_min = 100000000000000\n",
    "    for i in range(n):\n",
    "        print('i:', i)\n",
    "        for j in range(n-1,-1+i,-1):\n",
    "            if j != i:\n",
    "                print('    j:', j)\n",
    "                dx = points[j][0] - points[i][0]\n",
    "                dy = points[j][1] - points[i][1]\n",
    "                dz = points[j][2] - points[i][2]\n",
    "                \n",
    "                v_diff= math.sqrt(dx**2+dy**2+dz**2)\n",
    "        \n",
    "                if v_diff > v_comp_max:\n",
    "                    v_max = [points[j], points[i]]\n",
    "                    v_comp_max = v_diff\n",
    "                    print('v_max:', v_max, 'mit d =', v_comp_max)\n",
    "                if v_diff < v_comp_min:\n",
    "                    v_min = [points[j], points[i]]\n",
    "                    v_comp_min = v_diff\n",
    "                    print('v_min:', v_min, 'mit d =', v_comp_min)\n",
    "    return v_max, v_min"
   ]
  },
  {
   "cell_type": "code",
   "execution_count": 92,
   "id": "surgical-pixel",
   "metadata": {},
   "outputs": [
    {
     "name": "stdout",
     "output_type": "stream",
     "text": [
      "i: 0\n",
      "    j: 4\n",
      "v_max: [[-6.805401, -31.109989, -10.018099], [12.991339, 26.343584, -0.54081]] mit d = 61.50319481037916\n",
      "v_min: [[-6.805401, -31.109989, -10.018099], [12.991339, 26.343584, -0.54081]] mit d = 61.50319481037916\n",
      "    j: 3\n",
      "v_min: [[-25.590439, 8.193016, -6.679047], [12.991339, 26.343584, -0.54081]] mit d = 43.077542476702135\n",
      "    j: 2\n",
      "v_min: [[3.115073, 3.717124, 21.611605], [12.991339, 26.343584, -0.54081]] mit d = 33.16966705540743\n",
      "    j: 1\n",
      "i: 1\n",
      "    j: 4\n",
      "    j: 3\n",
      "    j: 2\n",
      "v_min: [[3.115073, 3.717124, 21.611605], [16.289434, -7.143974, -4.373655]] mit d = 31.09278010714907\n",
      "i: 2\n",
      "    j: 4\n",
      "    j: 3\n",
      "i: 3\n",
      "    j: 4\n",
      "i: 4\n"
     ]
    },
    {
     "data": {
      "text/plain": [
       "([[-6.805401, -31.109989, -10.018099], [12.991339, 26.343584, -0.54081]],\n",
       " [[3.115073, 3.717124, 21.611605], [16.289434, -7.143974, -4.373655]])"
      ]
     },
     "execution_count": 92,
     "metadata": {},
     "output_type": "execute_result"
    }
   ],
   "source": [
    "get_min_max_dis(Tracker_Nico.opti_positions, 5)"
   ]
  },
  {
   "cell_type": "code",
   "execution_count": 93,
   "id": "following-things",
   "metadata": {},
   "outputs": [
    {
     "name": "stdout",
     "output_type": "stream",
     "text": [
      "i: 0\n",
      "    j: 4\n",
      "v_max: [[-10, -14, 35], [0, 0, 61]] mit d = 31.176914536239792\n",
      "v_min: [[-10, -14, 35], [0, 0, 61]] mit d = 31.176914536239792\n",
      "    j: 3\n",
      "v_max: [[-10, 31, 35], [0, 0, 61]] mit d = 41.677331968349414\n",
      "    j: 2\n",
      "    j: 1\n",
      "v_max: [[-41, 0, 35], [0, 0, 61]] mit d = 48.54894437575342\n",
      "i: 1\n",
      "    j: 4\n",
      "    j: 3\n",
      "    j: 2\n",
      "v_max: [[20, 0, 35], [-41, 0, 35]] mit d = 61.0\n",
      "i: 2\n",
      "    j: 4\n",
      "    j: 3\n",
      "i: 3\n",
      "    j: 4\n",
      "i: 4\n"
     ]
    },
    {
     "data": {
      "text/plain": [
       "([[20, 0, 35], [-41, 0, 35]], [[-10, -14, 35], [0, 0, 61]])"
      ]
     },
     "execution_count": 93,
     "metadata": {},
     "output_type": "execute_result"
    }
   ],
   "source": [
    "get_min_max_dis(Tracker_Nico.positions, 5)"
   ]
  },
  {
   "cell_type": "code",
   "execution_count": 90,
   "id": "veterinary-hormone",
   "metadata": {},
   "outputs": [
    {
     "name": "stdout",
     "output_type": "stream",
     "text": [
      "i: 0\n",
      "    j: 2\n",
      "v_max: [[1.5, 0, 0], [0, 0, 0]] mit 1.5\n",
      "v_min: [[1.5, 0, 0], [0, 0, 0]] mit 1.5\n",
      "    j: 1\n",
      "v_min: [[1, 0, 0], [0, 0, 0]] mit 1.0\n",
      "i: 1\n",
      "    j: 2\n",
      "v_min: [[1.5, 0, 0], [1, 0, 0]] mit 0.5\n",
      "i: 2\n"
     ]
    },
    {
     "data": {
      "text/plain": [
       "([[1.5, 0, 0], [0, 0, 0]], [[1.5, 0, 0], [1, 0, 0]])"
      ]
     },
     "execution_count": 90,
     "metadata": {},
     "output_type": "execute_result"
    }
   ],
   "source": [
    "get_min_max_dis([[0,0,0],[1,0,0], [1.5,0,0]], 3)"
   ]
  },
  {
   "cell_type": "code",
   "execution_count": null,
   "id": "intelligent-commercial",
   "metadata": {},
   "outputs": [],
   "source": []
  }
 ],
 "metadata": {
  "kernelspec": {
   "display_name": "Python 3 (ipykernel)",
   "language": "python",
   "name": "python3"
  },
  "language_info": {
   "codemirror_mode": {
    "name": "ipython",
    "version": 3
   },
   "file_extension": ".py",
   "mimetype": "text/x-python",
   "name": "python",
   "nbconvert_exporter": "python",
   "pygments_lexer": "ipython3",
   "version": "3.8.8"
  }
 },
 "nbformat": 4,
 "nbformat_minor": 5
}
