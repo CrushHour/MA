{
 "cells": [
  {
   "cell_type": "code",
   "execution_count": 6,
   "id": "threatened-grill",
   "metadata": {},
   "outputs": [],
   "source": [
    "from datetime import datetime\n",
    "from time import sleep\n",
    "import time"
   ]
  },
  {
   "cell_type": "code",
   "execution_count": 7,
   "id": "international-rebecca",
   "metadata": {},
   "outputs": [],
   "source": [
    "init_time = datetime.now()\n",
    "sleep(0.1)\n",
    "now = datetime.now()\n",
    "dt = now - init_time\n",
    "dt_in_ms = dt.seconds *1000 + dt.microseconds / 1000"
   ]
  },
  {
   "cell_type": "code",
   "execution_count": 8,
   "id": "acute-sandwich",
   "metadata": {},
   "outputs": [
    {
     "data": {
      "text/plain": [
       "1001.149"
      ]
     },
     "execution_count": 8,
     "metadata": {},
     "output_type": "execute_result"
    }
   ],
   "source": [
    "dt_in_ms"
   ]
  },
  {
   "cell_type": "code",
   "execution_count": 9,
   "id": "becoming-lexington",
   "metadata": {},
   "outputs": [],
   "source": [
    "tt = time.localtime()"
   ]
  },
  {
   "cell_type": "code",
   "execution_count": 10,
   "id": "buried-maine",
   "metadata": {},
   "outputs": [
    {
     "data": {
      "text/plain": [
       "time.struct_time(tm_year=2023, tm_mon=1, tm_mday=5, tm_hour=11, tm_min=35, tm_sec=23, tm_wday=3, tm_yday=5, tm_isdst=0)"
      ]
     },
     "execution_count": 10,
     "metadata": {},
     "output_type": "execute_result"
    }
   ],
   "source": [
    "tt"
   ]
  },
  {
   "cell_type": "code",
   "execution_count": 13,
   "id": "exclusive-outreach",
   "metadata": {},
   "outputs": [],
   "source": [
    "current_time = time.strftime(\"%Y_%m_%d_%H_%M_%S\", tt)"
   ]
  },
  {
   "cell_type": "code",
   "execution_count": 14,
   "id": "adjacent-things",
   "metadata": {},
   "outputs": [
    {
     "data": {
      "text/plain": [
       "'2023_01_05_11_35_23'"
      ]
     },
     "execution_count": 14,
     "metadata": {},
     "output_type": "execute_result"
    }
   ],
   "source": [
    "current_time"
   ]
  },
  {
   "cell_type": "code",
   "execution_count": null,
   "id": "advised-spell",
   "metadata": {},
   "outputs": [],
   "source": []
  }
 ],
 "metadata": {
  "kernelspec": {
   "display_name": "Python 3 (ipykernel)",
   "language": "python",
   "name": "python3"
  },
  "language_info": {
   "codemirror_mode": {
    "name": "ipython",
    "version": 3
   },
   "file_extension": ".py",
   "mimetype": "text/x-python",
   "name": "python",
   "nbconvert_exporter": "python",
   "pygments_lexer": "ipython3",
   "version": "3.8.8"
  }
 },
 "nbformat": 4,
 "nbformat_minor": 5
}
