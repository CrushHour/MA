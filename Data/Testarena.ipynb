{
 "cells": [
  {
   "cell_type": "code",
   "execution_count": 5,
   "id": "threatened-grill",
   "metadata": {},
   "outputs": [],
   "source": [
    "from datetime import datetime\n",
    "from time import sleep"
   ]
  },
  {
   "cell_type": "code",
   "execution_count": 21,
   "id": "international-rebecca",
   "metadata": {},
   "outputs": [],
   "source": [
    "init_time = datetime.now()\n",
    "sleep(1.0)\n",
    "now = datetime.now()\n",
    "dt = now - init_time\n",
    "dt_in_ms = dt.seconds *1000 + dt.microseconds / 1000"
   ]
  },
  {
   "cell_type": "code",
   "execution_count": 22,
   "id": "acute-sandwich",
   "metadata": {},
   "outputs": [
    {
     "data": {
      "text/plain": [
       "1000.522"
      ]
     },
     "execution_count": 22,
     "metadata": {},
     "output_type": "execute_result"
    }
   ],
   "source": [
    "dt_in_ms"
   ]
  },
  {
   "cell_type": "code",
   "execution_count": 23,
   "id": "becoming-lexington",
   "metadata": {},
   "outputs": [
    {
     "data": {
      "text/plain": [
       "datetime.timedelta(seconds=1, microseconds=522)"
      ]
     },
     "execution_count": 23,
     "metadata": {},
     "output_type": "execute_result"
    }
   ],
   "source": [
    "dt"
   ]
  },
  {
   "cell_type": "code",
   "execution_count": null,
   "id": "buried-maine",
   "metadata": {},
   "outputs": [],
   "source": []
  }
 ],
 "metadata": {
  "kernelspec": {
   "display_name": "Python 3 (ipykernel)",
   "language": "python",
   "name": "python3"
  },
  "language_info": {
   "codemirror_mode": {
    "name": "ipython",
    "version": 3
   },
   "file_extension": ".py",
   "mimetype": "text/x-python",
   "name": "python",
   "nbconvert_exporter": "python",
   "pygments_lexer": "ipython3",
   "version": "3.8.8"
  }
 },
 "nbformat": 4,
 "nbformat_minor": 5
}
